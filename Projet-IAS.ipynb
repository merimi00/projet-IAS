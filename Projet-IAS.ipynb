{
 "cells": [
  {
   "cell_type": "code",
   "execution_count": 128,
   "id": "c617e966",
   "metadata": {},
   "outputs": [],
   "source": [
    "import numpy as np\n",
    "import matplotlib.pyplot as plt\n",
    "import sklearn as sk\n",
    "import pandas as pd"
   ]
  },
  {
   "cell_type": "code",
   "execution_count": 91,
   "id": "9ee3ed15",
   "metadata": {},
   "outputs": [],
   "source": [
    "#load data\n",
    "#data = pd.read_csv('car.data', sep='\\n')\n",
    "data = pd.read_csv('car.data', sep=',')"
   ]
  },
  {
   "cell_type": "code",
   "execution_count": 92,
   "id": "1e530c4b",
   "metadata": {},
   "outputs": [
    {
     "name": "stdout",
     "output_type": "stream",
     "text": [
      "     buying  maint  doors  persons  lug_boot  safety  class_values\n",
      "0     vhigh  vhigh      2        2     small     low         unacc\n",
      "1     vhigh  vhigh      2        2     small     med         unacc\n",
      "2     vhigh  vhigh      2        2     small    high         unacc\n",
      "3     vhigh  vhigh      2        2       med     low         unacc\n",
      "4     vhigh  vhigh      2        2       med     med         unacc\n",
      "...     ...    ...    ...      ...       ...     ...           ...\n",
      "1723    low    low  5more     more       med     med          good\n",
      "1724    low    low  5more     more       med    high         vgood\n",
      "1725    low    low  5more     more       big     low         unacc\n",
      "1726    low    low  5more     more       big     med          good\n",
      "1727    low    low  5more     more       big    high         vgood\n",
      "\n",
      "[1728 rows x 7 columns]\n"
     ]
    }
   ],
   "source": [
    "print(data)"
   ]
  },
  {
   "cell_type": "code",
   "execution_count": 93,
   "id": "443c8f73",
   "metadata": {},
   "outputs": [
    {
     "name": "stdout",
     "output_type": "stream",
     "text": [
      "True\n"
     ]
    }
   ],
   "source": [
    "type(data)\n",
    "data.iloc[0]\n",
    "print(data.iloc[0][0] == 'vhigh')"
   ]
  },
  {
   "cell_type": "code",
   "execution_count": 94,
   "id": "f2f352b5",
   "metadata": {},
   "outputs": [],
   "source": [
    "def convert_buying_maint(d): #vhigh, high, med, low. => 3,2,1,0\n",
    "        for i in range(d.shape[0]):\n",
    "            for j in range(2):\n",
    "                if(d.iloc[i][j] == 'vhigh'):\n",
    "                    d.iloc[i][j] = 3\n",
    "\n",
    "                elif(d.iloc[i][j] == 'high'):\n",
    "                    d.iloc[i][j] = 2\n",
    "\n",
    "                elif(d.iloc[i][j] == 'med'):\n",
    "                    d.iloc[i][j] = 1\n",
    "\n",
    "                else:\n",
    "                    d.iloc[i][j] = 0"
   ]
  },
  {
   "cell_type": "code",
   "execution_count": 95,
   "id": "34c1fbb1",
   "metadata": {},
   "outputs": [],
   "source": [
    "def convert_lugboot_safety(d): #small, med, big. => 2,1,0\n",
    "        for i in range(d.shape[0]):\n",
    "            for j in range(4,6):\n",
    "                if(d.iloc[i][j] == 'small' or d.iloc[i][j] == 'low'):\n",
    "                    d.iloc[i][j] = 0\n",
    "\n",
    "                elif(d.iloc[i][j] == 'med'):\n",
    "                    d.iloc[i][j] = 1\n",
    "\n",
    "                else:\n",
    "                    d.iloc[i][j] = 2"
   ]
  },
  {
   "cell_type": "code",
   "execution_count": 96,
   "id": "a8357d10",
   "metadata": {},
   "outputs": [],
   "source": [
    "def convert_doors_persons(d): # 5-more, more => 6\n",
    "    for i in range(d.shape[0]):\n",
    "        for j in range(2,4):\n",
    "            if(d.iloc[i][j] == '5more' or d.iloc[i][j] == 'more'):\n",
    "                d.iloc[i][j] = 6"
   ]
  },
  {
   "cell_type": "code",
   "execution_count": 97,
   "id": "89c01f63",
   "metadata": {},
   "outputs": [],
   "source": [
    "def convert_classvalues(d): #unacc, acc, good, vgood => 0,1,2,3\n",
    "     for i in range(d.shape[0]):\n",
    "            j = 6\n",
    "            if(d.iloc[i][j] == 'unacc'):\n",
    "                d.iloc[i][j] = 0\n",
    "\n",
    "            elif(d.iloc[i][j] == 'acc'):\n",
    "                d.iloc[i][j] = 1\n",
    "\n",
    "            elif(d.iloc[i][j] == 'good'):\n",
    "                d.iloc[i][j] = 2\n",
    "\n",
    "            else:\n",
    "                d.iloc[i][j] = 3"
   ]
  },
  {
   "cell_type": "code",
   "execution_count": 98,
   "id": "8463e1a4",
   "metadata": {},
   "outputs": [],
   "source": [
    "convert_buying_maint(data)\n",
    "convert_lugboot_safety(data)\n",
    "convert_doors_persons(data)\n",
    "convert_classvalues(data)"
   ]
  },
  {
   "cell_type": "code",
   "execution_count": 99,
   "id": "98f146ea",
   "metadata": {},
   "outputs": [
    {
     "name": "stdout",
     "output_type": "stream",
     "text": [
      "     buying  maint doors  persons  lug_boot  safety  class_values\n",
      "0         3      3     2        2         0       0             0\n",
      "1         3      3     2        2         0       1             0\n",
      "2         3      3     2        2         0       2             0\n",
      "3         3      3     2        2         1       0             0\n",
      "4         3      3     2        2         1       1             0\n",
      "...     ...    ...   ...      ...       ...     ...           ...\n",
      "1723      0      0     6        6         1       1             2\n",
      "1724      0      0     6        6         1       2             3\n",
      "1725      0      0     6        6         2       0             0\n",
      "1726      0      0     6        6         2       1             2\n",
      "1727      0      0     6        6         2       2             3\n",
      "\n",
      "[1728 rows x 7 columns]\n"
     ]
    }
   ],
   "source": [
    "print(data)"
   ]
  },
  {
   "cell_type": "code",
   "execution_count": 124,
   "id": "5caf310b",
   "metadata": {},
   "outputs": [
    {
     "data": {
      "text/plain": [
       "Index(['buying', ' maint', 'doors', ' persons', ' lug_boot', ' safety',\n",
       "       ' class_values'],\n",
       "      dtype='object')"
      ]
     },
     "execution_count": 124,
     "metadata": {},
     "output_type": "execute_result"
    }
   ],
   "source": [
    "data.columns"
   ]
  },
  {
   "cell_type": "code",
   "execution_count": 141,
   "id": "663ffe8f",
   "metadata": {},
   "outputs": [],
   "source": [
    "maintain_0 = data[data[' class_values'] == 3][' maint'].to_numpy()"
   ]
  },
  {
   "cell_type": "code",
   "execution_count": 142,
   "id": "57e9edd9",
   "metadata": {},
   "outputs": [
    {
     "data": {
      "text/plain": [
       "(65,)"
      ]
     },
     "execution_count": 142,
     "metadata": {},
     "output_type": "execute_result"
    }
   ],
   "source": [
    "maintain_0.shape"
   ]
  },
  {
   "cell_type": "code",
   "execution_count": 143,
   "id": "c46e9759",
   "metadata": {},
   "outputs": [
    {
     "data": {
      "text/plain": [
       "(array([2., 0., 0., 0., 0., 2., 0., 0., 0., 1.]),\n",
       " array([0.0, 0.2, 0.4, 0.6000000000000001, 0.8, 1.0, 1.2000000000000002,\n",
       "        1.4000000000000001, 1.6, 1.8, 2.0], dtype=object),\n",
       " <BarContainer object of 10 artists>)"
      ]
     },
     "execution_count": 143,
     "metadata": {},
     "output_type": "execute_result"
    },
    {
     "data": {
      "image/png": "[encoded data removed]",
      "text/plain": [
       "<Figure size 432x288 with 1 Axes>"
      ]
     },
     "metadata": {
      "needs_background": "light"
     },
     "output_type": "display_data"
    }
   ],
   "source": [
    "plt.hist(maintain_0, density = True)"
   ]
  },
  {
   "cell_type": "code",
   "execution_count": 116,
   "id": "1389972d",
   "metadata": {},
   "outputs": [],
   "source": [
    "X = data.iloc[0:1728, 0:4].to_numpy()\n",
    "Y = data.iloc[0:1728, 5].to_numpy()\n",
    "\n",
    "Test = data.iloc[0:1728, 0].to_numpy()\n",
    "\n"
   ]
  },
  {
   "cell_type": "code",
   "execution_count": 119,
   "id": "3c2eae6a",
   "metadata": {},
   "outputs": [
    {
     "data": {
      "text/plain": [
       "(array([3, 3, 3, ..., 0, 0, 0], dtype=object),\n",
       " array([0, 1, 2, ..., 0, 1, 2], dtype=object))"
      ]
     },
     "execution_count": 119,
     "metadata": {},
     "output_type": "execute_result"
    }
   ],
   "source": [
    "Test, Y"
   ]
  },
  {
   "cell_type": "code",
   "execution_count": 117,
   "id": "9ab81691",
   "metadata": {
    "scrolled": true
   },
   "outputs": [
    {
     "data": {
      "text/plain": [
       "<matplotlib.collections.PathCollection at 0x7fdca8daab50>"
      ]
     },
     "execution_count": 117,
     "metadata": {},
     "output_type": "execute_result"
    },
    {
     "data": {
      "image/png": "[encoded data removed]",
      "text/plain": [
       "<Figure size 432x288 with 1 Axes>"
      ]
     },
     "metadata": {
      "needs_background": "light"
     },
     "output_type": "display_data"
    }
   ],
   "source": [
    "plt.pyplot.scatter(Test, Y)"
   ]
  },
  {
   "cell_type": "code",
   "execution_count": null,
   "id": "b969790b",
   "metadata": {},
   "outputs": [],
   "source": [
    "plt.figure()\n",
    "plt.plot\n",
    "plt.xlabel(buying)\n",
    "plt.ylabel(safety)"
   ]
  },
  {
   "cell_type": "code",
   "execution_count": null,
   "id": "0a1dd08a",
   "metadata": {},
   "outputs": [],
   "source": []
  }
 ],
 "metadata": {
  "kernelspec": {
   "display_name": "Python 3 (ipykernel)",
   "language": "python",
   "name": "python3"
  },
  "language_info": {
   "codemirror_mode": {
    "name": "ipython",
    "version": 3
   },
   "file_extension": ".py",
   "mimetype": "text/x-python",
   "name": "python",
   "nbconvert_exporter": "python",
   "pygments_lexer": "ipython3",
   "version": "3.9.7"
  },
  "toc": {
   "base_numbering": 1,
   "nav_menu": {},
   "number_sections": true,
   "sideBar": true,
   "skip_h1_title": false,
   "title_cell": "Table of Contents",
   "title_sidebar": "Contents",
   "toc_cell": false,
   "toc_position": {},
   "toc_section_display": true,
   "toc_window_display": false
  },
  "varInspector": {
   "cols": {
    "lenName": 16,
    "lenType": 16,
    "lenVar": 40
   },
   "kernels_config": {
    "python": {
     "delete_cmd_postfix": "",
     "delete_cmd_prefix": "del ",
     "library": "var_list.py",
     "varRefreshCmd": "print(var_dic_list())"
    },
    "r": {
     "delete_cmd_postfix": ") ",
     "delete_cmd_prefix": "rm(",
     "library": "var_list.r",
     "varRefreshCmd": "cat(var_dic_list()) "
    }
   },
   "types_to_exclude": [
    "module",
    "function",
    "builtin_function_or_method",
    "instance",
    "_Feature"
   ],
   "window_display": false
  }
 },
 "nbformat": 4,
 "nbformat_minor": 5
}
